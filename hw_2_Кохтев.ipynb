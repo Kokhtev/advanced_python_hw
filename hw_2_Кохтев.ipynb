{
 "cells": [
  {
   "cell_type": "markdown",
   "metadata": {},
   "source": [
    "### Сторонние библиотеки использовать нельзя"
   ]
  },
  {
   "cell_type": "markdown",
   "metadata": {},
   "source": [
    "### Задача 0 [Библиотека] (0.15 балла)  \n",
    "\n",
    "**Условие:** \n",
    "\n",
    "\n",
    "В библиотеке хранятся книги и журналы. У каждой сущности есть общие характеристики, такие как: название, автор, жанр, число страниц, формат страниц, индекс редкости (от 1 до 10) и текст. Также у разных сущностей могут быть свои атрибуты. Хочется все редкие издания (индекс 9 или 10) дополнительно сохранять в некое хранилище (пусть json-файл), а также хочется понимать какую площадь занимает издание, если разложить все его страницы на полу.     \n",
    "\n",
    "\n",
    "**Комментарий:**\n",
    "\n",
    "Это задача с семинара на организацию иерархии классов. Идея в том, что нужно разделять сущности в зависимости от их применения. Например, есть книга как некий абстрактный объект, а есть библиотечная книга, у которой есть свои особенности. Также для сохранения книг в json нужно использвать классы-примеси.\n",
    "\n",
    "\n",
    "Иерархия классов:"
   ]
  },
  {
   "cell_type": "code",
   "execution_count": 1,
   "metadata": {},
   "outputs": [],
   "source": [
    "PAGE_FORMATS = {\n",
    "    'A1': (2048, 1024),\n",
    "    'A2': (1024, 512),\n",
    "    'A3': (512, 256),\n",
    "    'A4': (297, 210),\n",
    "}\n",
    "\n",
    "\n",
    "class ReadableEntity:\n",
    "    def __init__(self, author, num_pages, page_format, text, rarity):\n",
    "        self.author = author\n",
    "        self.num_pages = num_pages\n",
    "        self.page_format = page_format\n",
    "        self.text = text\n",
    "        self.rarity = rarity\n",
    "    \n",
    "    @staticmethod\n",
    "    def get_page_square(heigth, width):\n",
    "        return heigth * width\n",
    "\n",
    "\n",
    "class Journal(ReadableEntity):\n",
    "    def __init__(self, volume, *kwargs):\n",
    "        self.volume = volume\n",
    "        super().__init__(*kwargs)\n",
    "    \n",
    "    @property\n",
    "    def get_journal_square(self): # договорились на семинаре, что книги не рвём\n",
    "        heigth, width = PAGE_FORMATS[self.page_format.upper()]\n",
    "        return self.num_pages * self.get_page_square(heigth, width)\n",
    "\n",
    "    \n",
    "class Book(ReadableEntity):\n",
    "    def __init__(self, hard_cover, *kwargs):\n",
    "        self.hard_cover = hard_cover\n",
    "        super().__init__(*kwargs)\n",
    "\n",
    "        \n",
    "class Exporter:\n",
    "    \n",
    "    def export_to_txt(self, file_path):\n",
    "        with open(file_path, 'w') as f:\n",
    "            for key in self.__dict__:\n",
    "                f.write(\"{}: {}\".format(key, self.__dict__[key]))\n",
    "        print('Entity was successfully saved')\n",
    "     \n",
    "    \n",
    "class LibraryJournal(Journal, Exporter):\n",
    "    def __init__(self, *kwargs):\n",
    "        super().__init__(*kwargs)    \n",
    "        \n",
    "        if self.rarity >= 9:\n",
    "            self.export_to_txt()\n",
    "\n",
    "\n",
    "class LibraryBook(Book, Exporter):\n",
    "    def __init__(self, *kwargs):\n",
    "        super().__init__(*kwargs)    \n",
    "        \n",
    "    def process_book(self):\n",
    "        if self.rarity >= 9:\n",
    "            self.export_to_txt(self.author+'.txt')\n",
    "        else:\n",
    "            print('Entity is not rare')"
   ]
  },
  {
   "cell_type": "code",
   "execution_count": 2,
   "metadata": {},
   "outputs": [],
   "source": [
    "tatler = Journal(\"02/2019\", \"Conde Nast\", 220, \"A4\", \"style\", 2)\n",
    "tatler.get_journal_square"
   ]
  },
  {
   "cell_type": "code",
   "execution_count": 3,
   "metadata": {},
   "outputs": [],
   "source": [
    "library_freud = LibraryBook(True, \"Freud\", 144, \"A4\", \"lorem ipsum\", 9)\n",
    "library_freud.process_book()"
   ]
  },
  {
   "cell_type": "markdown",
   "metadata": {},
   "source": [
    "### Задача 1 [Размер объектов] (0 - 0.15 балла)  \n",
    "\n",
    "**Условие:** \n",
    "\n",
    "Написать функцию получения реального объема занимаемой объектом памяти объектом. \n",
    "\n",
    "\n",
    "1) Для int, str, list, tuple, dict **(0.05 балла)**\n",
    "\n",
    "2) Для всех типов **(+0.1 балла)**\n",
    "\n",
    "\n",
    "**Комментарий:**\n",
    "\n",
    "На занятиях не раз говорилось, что `sys.getsizeof` умеет находить размер простых объектов, но если речь идет об объектах, вроде list, то функция вернет не совсем то, что может ожидать разработчик, потому что список хранит указатели на объекты. \n",
    "\n",
    "*Пример:*\n",
    "```\n",
    "sys.getsizeof([]) == 64\n",
    "sys.getsizeof(['aaaaaaa']) == 72\n",
    "```\n",
    "Но\n",
    "```\n",
    "sys.getsizeof('aaaaaaa') == 56\n",
    "```\n"
   ]
  },
  {
   "cell_type": "code",
   "execution_count": 4,
   "metadata": {},
   "outputs": [],
   "source": [
    "import sys\n",
    "import collections\n",
    "\n",
    "def total_size(obj):\n",
    "    \n",
    "    if isinstance(obj, (int, float, complex, bool, str)):\n",
    "        return sys.getsizeof(obj)\n",
    "    \n",
    "    if isinstance(obj, dict):\n",
    "        cnt = 0\n",
    "        for key, value in obj.items():\n",
    "            cnt += total_size(key)\n",
    "            cnt += total_size(value)\n",
    "        return cnt\n",
    "    \n",
    "    if isinstance(obj, collections.Iterable):\n",
    "        cnt = 0\n",
    "        for elem in obj:\n",
    "            cnt += total_size(elem)\n",
    "        return cnt"
   ]
  },
  {
   "cell_type": "code",
   "execution_count": 5,
   "metadata": {},
   "outputs": [
    {
     "data": {
      "text/plain": [
       "28"
      ]
     },
     "execution_count": 5,
     "metadata": {},
     "output_type": "execute_result"
    }
   ],
   "source": [
    "total_size(1)"
   ]
  },
  {
   "cell_type": "code",
   "execution_count": 6,
   "metadata": {},
   "outputs": [
    {
     "data": {
      "text/plain": [
       "52"
      ]
     },
     "execution_count": 6,
     "metadata": {},
     "output_type": "execute_result"
    }
   ],
   "source": [
    "total_size(\"abc\")"
   ]
  },
  {
   "cell_type": "code",
   "execution_count": 7,
   "metadata": {},
   "outputs": [
    {
     "data": {
      "text/plain": [
       "24"
      ]
     },
     "execution_count": 7,
     "metadata": {},
     "output_type": "execute_result"
    }
   ],
   "source": [
    "total_size(1.2)"
   ]
  },
  {
   "cell_type": "code",
   "execution_count": 8,
   "metadata": {},
   "outputs": [
    {
     "data": {
      "text/plain": [
       "100"
      ]
     },
     "execution_count": 8,
     "metadata": {},
     "output_type": "execute_result"
    }
   ],
   "source": [
    "total_size(['a','b'])"
   ]
  },
  {
   "cell_type": "code",
   "execution_count": 9,
   "metadata": {},
   "outputs": [
    {
     "data": {
      "text/plain": [
       "100"
      ]
     },
     "execution_count": 9,
     "metadata": {},
     "output_type": "execute_result"
    }
   ],
   "source": [
    "total_size(('a', 'b'))"
   ]
  },
  {
   "cell_type": "code",
   "execution_count": 10,
   "metadata": {},
   "outputs": [
    {
     "data": {
      "text/plain": [
       "150"
      ]
     },
     "execution_count": 10,
     "metadata": {},
     "output_type": "execute_result"
    }
   ],
   "source": [
    "total_size(dict({'a': ['b', 'b']}))"
   ]
  },
  {
   "cell_type": "markdown",
   "metadata": {},
   "source": [
    "### Задача 2 [Многочлены] (0.64 балла)\n",
    "\n",
    "**Условие:**\n",
    "\n",
    "Реализовать класс многочлена. Определить операции:\n",
    "\n",
    "1) *сложения* - **(0.02 балла)**\n",
    "\n",
    "2) *вычитания* - **(0.02 балла)**\n",
    "\n",
    "3) *умножения* - **(0.04 балла)**\n",
    "\n",
    "3a) *быстрого умножения* (алгоритм Карацубы или быстрое преобразование Фурье) - **(+0.25 балла)**\n",
    "\n",
    "4) *деления* - **(0.05 балла)**\n",
    "\n",
    "5) *возведения в степень* - **(0.02 балла)** | *возведения в степень* через быстрое возведение в степень за log - **(0.04 балла)**\n",
    "\n",
    "6) *представления многочлена в человеческом виде* - **(0.02 балла)**\n",
    "\n",
    "7) *дифференцирования* - **(0.05 балла)**\n",
    "\n",
    "8) *интегрирования* - **(0.05 балла)**\n",
    "\n",
    "9) Вызова многочлена как функции (вычисление значения в точке) - **(0.03 балла)**\n",
    "\n",
    "**Комментарии:**\n",
    "\n",
    "Для комплексных коэффициентов **(0.01 балла)** к каждому пункту.\n",
    "\n",
    "Операции с числами также должны работать."
   ]
  },
  {
   "cell_type": "code",
   "execution_count": 11,
   "metadata": {},
   "outputs": [],
   "source": [
    "import math\n",
    "\n",
    "class Monom(object): \n",
    "    \n",
    "    def __init__(self, coef, power):\n",
    "        '''\n",
    "            Класс для работы с одним мономом многочлена\n",
    "        '''\n",
    "        self.coef = coef\n",
    "        self.power = power\n",
    "        \n",
    "    def __call__(self, value):\n",
    "        return self.coef * (value ** self.power)\n",
    "    \n",
    "    def __eq__(self, other):\n",
    "        return (self.coef == other.coef) & (self.power == other.power)\n",
    "        \n",
    "        \n",
    "    def __add__(self, other): \n",
    "        if self.power == other.power:\n",
    "            return Monom(self.coef + other.coef, self.power)\n",
    "        \n",
    "    def __sub__(self, other):\n",
    "        if self.power == other.power:\n",
    "            return Monom(self.coef - other.coef, self.power)\n",
    "    \n",
    "    \n",
    "    def __mult__(self, other):\n",
    "        return Monom(self.coef * other.coef, self.power + other.power)\n",
    "    \n",
    "    def __truediv__(self, other):\n",
    "        return Monom(self.coef / other.coef, self.power - other.power)\n",
    "    \n",
    "    \n",
    "    def __repr__(self): \n",
    "        coef_str = \"\"\n",
    "        power_str = \"\"\n",
    "        \n",
    "        if (self.coef == 0):\n",
    "            return \"0\"\n",
    "        elif (self.coef == 1) & (self.power != 0):\n",
    "            coef_str = \"\"\n",
    "        elif (int(self.coef.real) != self.coef.real) | isinstance(self.coef, complex):\n",
    "            coef_str = str(self.coef)\n",
    "        else:\n",
    "            coef_str = str(int(self.coef))\n",
    "            \n",
    "        if self.power == 0:\n",
    "            power_str = \"\"\n",
    "        elif self.power == 1:\n",
    "            power_str = \"x\"\n",
    "        elif ((self.power < 0) | (int(self.power) != self.power)):\n",
    "            power_str = \"x^({})\".format(self.power)\n",
    "        else:\n",
    "            power_str = \"x^{}\".format(int(self.power))\n",
    "        \n",
    "        return coef_str + power_str ###### константа\n",
    "    \n",
    "    def __derivative__(self):\n",
    "        return Monom(self.coef * self.power, self.power - 1)\n",
    "    \n",
    "    def __integral__(self):\n",
    "        return Monom(float(self.coef) / (self.power + 1), self.power + 1)"
   ]
  },
  {
   "cell_type": "code",
   "execution_count": 12,
   "metadata": {},
   "outputs": [],
   "source": [
    "class Polynomial (object):\n",
    "    \n",
    "    @staticmethod\n",
    "    def parse_coeffs(coefs):\n",
    "        monoms = []\n",
    "        \n",
    "        if isinstance(coefs[0], tuple):\n",
    "            obj_to_iterate = sorted(coefs, key=lambda t: -t[1])\n",
    "        else:\n",
    "            obj_to_iterate = zip(coefs, reversed(range(len(coefs))))\n",
    "        \n",
    "        for coef, power in obj_to_iterate:\n",
    "            if (coef == 0) & ((power != 0) | (len(monoms) > 0)):\n",
    "                continue\n",
    "            monoms.append(Monom(coef, power))\n",
    "        return monoms\n",
    "\n",
    "    def __init__(self, coefs):\n",
    "        '''\n",
    "            Создаем из набора упорядоченных коэффициентов полином.\n",
    "            Polynomial ([]) -> P = 0\n",
    "            Polynomial ([2, -4.2, 1]) -> P = 2x^2-4.2x+1\n",
    "        '''\n",
    "        # Create a polynomial from a list or array of coefficients\n",
    "        \n",
    "        self._raw_coefs = coefs\n",
    "        \n",
    "        self.monoms = self.parse_coeffs(coefs)\n",
    "        \n",
    "        self.degree = self.monoms[0].power\n",
    "        \n",
    "        self.power_to_coef = {m.power: m.coef for m in self.monoms}\n",
    "            \n",
    "    def __call__(self, value): # 9 + \n",
    "        return sum([m.__call__(value) for m in self.monoms])\n",
    "        \n",
    "    def __repr__(self): # 6 + \n",
    "        string = self.monoms[0].__str__()\n",
    "        \n",
    "        for m in self.monoms[1:]:\n",
    "            if m.coef >= 0:\n",
    "                sign = \"+\"\n",
    "            else:\n",
    "                sign = \"\"\n",
    "            string += sign + m.__str__()\n",
    "            \n",
    "        return string\n",
    "    \n",
    "    def __neg__(self):\n",
    "        return Polynomial([(-m.coef, m.power) for m in self.monoms])\n",
    "    \n",
    "    def __add__(self, other): # 1 + \n",
    "        statedict = self.power_to_coef.copy()\n",
    "        \n",
    "        for o in other.monoms:\n",
    "            coef, power = o.coef, o.power\n",
    "                    \n",
    "            if power not in statedict:\n",
    "                statedict[power] = coef\n",
    "            else:\n",
    "                statedict[power] += coef\n",
    "                    \n",
    "        return Polynomial([(coef, power) for power, coef in statedict.items()])\n",
    "        \n",
    "    def __sub__(self, other): # 2 + \n",
    "        return self + other.__neg__()\n",
    "    \n",
    "    @staticmethod\n",
    "    def z_t(t, N):\n",
    "        return math.cos(2*math.pi*t / N) + 1j * math.sin(2*math.pi*t / N)\n",
    "    \n",
    "    def __mul__(self, other): # 3a +\n",
    "         # https://neerc.ifmo.ru/trains/toulouse/2017/fft.pdf\n",
    "        N = self.degree * other.degree\n",
    "        \n",
    "        z = [self.z_t(i, N) for i in range(N)]\n",
    "\n",
    "        h = [self.__call__(z_t) * other.__call__(z_t) for z_t in z]\n",
    "        p_h = Polynomial(h[1:][::1] + [h[0]])\n",
    "\n",
    "        return Polynomial([round(p_h(z_t).real / N, 7) for z_t in (reversed(z))])\n",
    "        \n",
    "    def __truediv__(self, other): # 4\n",
    "        pass\n",
    "    \n",
    "    def __pow__(self, power): # 5\n",
    "        pass # умножение за логарифм\n",
    "    \n",
    "    def __pow__(self, n):\n",
    "        N = self.degree ** n\n",
    "        \n",
    "        z = [self.z_t(i, N) for i in range(N)]\n",
    "\n",
    "        h = [self.__call__(z_t) ** n for z_t in z] ## спасибо Фурье за это\n",
    "        p_h = Polynomial(h[1:][::1] + [h[0]])\n",
    "\n",
    "        return Polynomial([round(p_h(z_t).real / N, 6) for z_t in (reversed(z))])\n",
    "    \n",
    "    def derivative(self): # 7 + \n",
    "        parts = [m.__derivative__() for m in self.monoms]\n",
    "        return Polynomial([(d.coef, d.power) for d in parts])\n",
    "    \n",
    "    def integral(self, *args): # 8 +\n",
    "        parts = [m.__integral__() for m in self.monoms]\n",
    "        poly = Polynomial([(d.coef, d.power) for d in parts]) \n",
    "        \n",
    "        if len(args) == 0:\n",
    "            return poly\n",
    "        elif len(args) == 2:\n",
    "            a, b = args\n",
    "            return poly(b) - poly(a)\n",
    "        else:\n",
    "            raise AttributeError"
   ]
  },
  {
   "cell_type": "code",
   "execution_count": 13,
   "metadata": {},
   "outputs": [
    {
     "data": {
      "text/plain": [
       "2x^3+4x+1"
      ]
     },
     "execution_count": 13,
     "metadata": {},
     "output_type": "execute_result"
    }
   ],
   "source": [
    "p1 = Polynomial([2, 0, 4, 1])\n",
    "p1"
   ]
  },
  {
   "cell_type": "code",
   "execution_count": 14,
   "metadata": {},
   "outputs": [
    {
     "data": {
      "text/plain": [
       "2x^2+4x+1"
      ]
     },
     "execution_count": 14,
     "metadata": {},
     "output_type": "execute_result"
    }
   ],
   "source": [
    "p2 = Polynomial([2, 4, 1])\n",
    "p2"
   ]
  },
  {
   "cell_type": "code",
   "execution_count": 15,
   "metadata": {},
   "outputs": [
    {
     "data": {
      "text/plain": [
       "2x^3+2x^2+8x+2"
      ]
     },
     "execution_count": 15,
     "metadata": {},
     "output_type": "execute_result"
    }
   ],
   "source": [
    "p1 + p2 # 1. сложение"
   ]
  },
  {
   "cell_type": "code",
   "execution_count": 16,
   "metadata": {},
   "outputs": [
    {
     "data": {
      "text/plain": [
       "2x^3-2x^2"
      ]
     },
     "execution_count": 16,
     "metadata": {},
     "output_type": "execute_result"
    }
   ],
   "source": [
    "p1 - p2 # 2. вычитание"
   ]
  },
  {
   "cell_type": "code",
   "execution_count": 17,
   "metadata": {},
   "outputs": [
    {
     "data": {
      "text/plain": [
       "4x^5+8x^4+10x^3+18x^2+8x+1"
      ]
     },
     "execution_count": 17,
     "metadata": {},
     "output_type": "execute_result"
    }
   ],
   "source": [
    "p1 * p2 # 3а. перемножение с Фурье"
   ]
  },
  {
   "cell_type": "code",
   "execution_count": 18,
   "metadata": {},
   "outputs": [
    {
     "data": {
      "text/plain": [
       "8x^9+48x^7+12x^6+96x^5+48x^4+70x^3+48x^2+12x+1"
      ]
     },
     "execution_count": 18,
     "metadata": {},
     "output_type": "execute_result"
    }
   ],
   "source": [
    "p1 ** 3  # 5. возведение в степень"
   ]
  },
  {
   "cell_type": "code",
   "execution_count": 19,
   "metadata": {},
   "outputs": [
    {
     "data": {
      "text/plain": [
       "2x^3+4x+1"
      ]
     },
     "execution_count": 19,
     "metadata": {},
     "output_type": "execute_result"
    }
   ],
   "source": [
    "p1 # 6. __repr__ "
   ]
  },
  {
   "cell_type": "code",
   "execution_count": 20,
   "metadata": {},
   "outputs": [
    {
     "data": {
      "text/plain": [
       "6x^2+4"
      ]
     },
     "execution_count": 20,
     "metadata": {},
     "output_type": "execute_result"
    }
   ],
   "source": [
    "p1.derivative() # 7. производная"
   ]
  },
  {
   "cell_type": "code",
   "execution_count": 21,
   "metadata": {},
   "outputs": [
    {
     "data": {
      "text/plain": [
       "0.5x^4+2x^2+x"
      ]
     },
     "execution_count": 21,
     "metadata": {},
     "output_type": "execute_result"
    }
   ],
   "source": [
    "p1.integral() # 8. интеграл"
   ]
  },
  {
   "cell_type": "code",
   "execution_count": 22,
   "metadata": {},
   "outputs": [
    {
     "data": {
      "text/plain": [
       "3.5"
      ]
     },
     "execution_count": 22,
     "metadata": {},
     "output_type": "execute_result"
    }
   ],
   "source": [
    "p1.integral(0, 1) # 8* - определенный интеграл"
   ]
  },
  {
   "cell_type": "code",
   "execution_count": 23,
   "metadata": {},
   "outputs": [
    {
     "data": {
      "text/plain": [
       "1"
      ]
     },
     "execution_count": 23,
     "metadata": {},
     "output_type": "execute_result"
    }
   ],
   "source": [
    "p1(0) # 9. значение в точке"
   ]
  },
  {
   "cell_type": "markdown",
   "metadata": {},
   "source": [
    "### Задача 3 [Аналог range] (0.05 балла)\n",
    "\n",
    "**Условие:**\n",
    "\n",
    "Реализуйте итератор с поведением, аналогичным range."
   ]
  },
  {
   "cell_type": "code",
   "execution_count": 25,
   "metadata": {},
   "outputs": [],
   "source": [
    "class Iterator():\n",
    "    def __init__(self, *args):\n",
    "        \n",
    "        left = 0\n",
    "        step = 1\n",
    "        \n",
    "        for elem in args:\n",
    "            if not isinstance(elem, int):\n",
    "                raise TypeError(\"'float' object cannot be interpreted as an integer\")\n",
    "        \n",
    "        if len(args) == 1:\n",
    "            right = args[0]\n",
    "        elif len(args) == 2:\n",
    "            left, right = args\n",
    "        elif len(args) == 3:\n",
    "            left, right, step = args\n",
    "        else:\n",
    "            raise TypeError('range expected at most 3 arguments, got {}'.format(len(args)))\n",
    "        \n",
    "        self.left, self.right, self.step = left, right, step\n",
    "        \n",
    "        self.count = 0\n",
    "    \n",
    "    def __iter__(self):\n",
    "        return self\n",
    "    \n",
    "    def __next__(self):\n",
    "        current = self.left + self.count\n",
    "        self.count += self.step\n",
    "        \n",
    "        if self.step * (current - self.right) >= 0:\n",
    "            raise StopIteration\n",
    "            \n",
    "        return current"
   ]
  },
  {
   "cell_type": "code",
   "execution_count": 26,
   "metadata": {},
   "outputs": [
    {
     "data": {
      "text/plain": [
       "True"
      ]
     },
     "execution_count": 26,
     "metadata": {},
     "output_type": "execute_result"
    }
   ],
   "source": [
    "list(Iterator(1)) == list(range(1)) "
   ]
  },
  {
   "cell_type": "code",
   "execution_count": 27,
   "metadata": {},
   "outputs": [
    {
     "data": {
      "text/plain": [
       "True"
      ]
     },
     "execution_count": 27,
     "metadata": {},
     "output_type": "execute_result"
    }
   ],
   "source": [
    "list(Iterator(1, 3)) == list(range(1, 3)) "
   ]
  },
  {
   "cell_type": "code",
   "execution_count": 28,
   "metadata": {},
   "outputs": [
    {
     "data": {
      "text/plain": [
       "True"
      ]
     },
     "execution_count": 28,
     "metadata": {},
     "output_type": "execute_result"
    }
   ],
   "source": [
    "list(Iterator(1, 5, 2)) == list(range(1, 5, 2)) "
   ]
  },
  {
   "cell_type": "code",
   "execution_count": 29,
   "metadata": {},
   "outputs": [
    {
     "data": {
      "text/plain": [
       "True"
      ]
     },
     "execution_count": 29,
     "metadata": {},
     "output_type": "execute_result"
    }
   ],
   "source": [
    "list(Iterator(1, 5, 2)) == list(range(1, 5, 2)) "
   ]
  },
  {
   "cell_type": "code",
   "execution_count": 30,
   "metadata": {},
   "outputs": [
    {
     "data": {
      "text/plain": [
       "True"
      ]
     },
     "execution_count": 30,
     "metadata": {},
     "output_type": "execute_result"
    }
   ],
   "source": [
    "list(Iterator(5, 1, -1)) == list(range(5, 1, -1)) "
   ]
  },
  {
   "cell_type": "code",
   "execution_count": 31,
   "metadata": {},
   "outputs": [
    {
     "ename": "TypeError",
     "evalue": "range expected at most 3 arguments, got 4",
     "output_type": "error",
     "traceback": [
      "\u001b[0;31m---------------------------------------------------------------------------\u001b[0m",
      "\u001b[0;31mTypeError\u001b[0m                                 Traceback (most recent call last)",
      "\u001b[0;32m<ipython-input-31-640810ecea31>\u001b[0m in \u001b[0;36m<module>\u001b[0;34m()\u001b[0m\n\u001b[0;32m----> 1\u001b[0;31m \u001b[0mrange\u001b[0m\u001b[0;34m(\u001b[0m\u001b[0;36m3\u001b[0m\u001b[0;34m,\u001b[0m \u001b[0;36m3\u001b[0m\u001b[0;34m,\u001b[0m \u001b[0;36m4\u001b[0m\u001b[0;34m,\u001b[0m \u001b[0;36m5\u001b[0m\u001b[0;34m)\u001b[0m\u001b[0;34m\u001b[0m\u001b[0m\n\u001b[0m",
      "\u001b[0;31mTypeError\u001b[0m: range expected at most 3 arguments, got 4"
     ]
    }
   ],
   "source": [
    "range(3, 3, 4, 5)"
   ]
  },
  {
   "cell_type": "code",
   "execution_count": 32,
   "metadata": {},
   "outputs": [
    {
     "ename": "TypeError",
     "evalue": "range expected at most 3 arguments, got 4",
     "output_type": "error",
     "traceback": [
      "\u001b[0;31m---------------------------------------------------------------------------\u001b[0m",
      "\u001b[0;31mTypeError\u001b[0m                                 Traceback (most recent call last)",
      "\u001b[0;32m<ipython-input-32-e904b3e9f8ef>\u001b[0m in \u001b[0;36m<module>\u001b[0;34m()\u001b[0m\n\u001b[0;32m----> 1\u001b[0;31m \u001b[0mIterator\u001b[0m\u001b[0;34m(\u001b[0m\u001b[0;36m3\u001b[0m\u001b[0;34m,\u001b[0m \u001b[0;36m3\u001b[0m\u001b[0;34m,\u001b[0m \u001b[0;36m4\u001b[0m\u001b[0;34m,\u001b[0m \u001b[0;36m5\u001b[0m\u001b[0;34m)\u001b[0m\u001b[0;34m\u001b[0m\u001b[0m\n\u001b[0m",
      "\u001b[0;32m<ipython-input-25-fd9db0a34211>\u001b[0m in \u001b[0;36m__init__\u001b[0;34m(self, *args)\u001b[0m\n\u001b[1;32m     16\u001b[0m             \u001b[0mleft\u001b[0m\u001b[0;34m,\u001b[0m \u001b[0mright\u001b[0m\u001b[0;34m,\u001b[0m \u001b[0mstep\u001b[0m \u001b[0;34m=\u001b[0m \u001b[0margs\u001b[0m\u001b[0;34m\u001b[0m\u001b[0m\n\u001b[1;32m     17\u001b[0m         \u001b[0;32melse\u001b[0m\u001b[0;34m:\u001b[0m\u001b[0;34m\u001b[0m\u001b[0m\n\u001b[0;32m---> 18\u001b[0;31m             \u001b[0;32mraise\u001b[0m \u001b[0mTypeError\u001b[0m\u001b[0;34m(\u001b[0m\u001b[0;34m'range expected at most 3 arguments, got {}'\u001b[0m\u001b[0;34m.\u001b[0m\u001b[0mformat\u001b[0m\u001b[0;34m(\u001b[0m\u001b[0mlen\u001b[0m\u001b[0;34m(\u001b[0m\u001b[0margs\u001b[0m\u001b[0;34m)\u001b[0m\u001b[0;34m)\u001b[0m\u001b[0;34m)\u001b[0m\u001b[0;34m\u001b[0m\u001b[0m\n\u001b[0m\u001b[1;32m     19\u001b[0m \u001b[0;34m\u001b[0m\u001b[0m\n\u001b[1;32m     20\u001b[0m         \u001b[0mself\u001b[0m\u001b[0;34m.\u001b[0m\u001b[0mleft\u001b[0m\u001b[0;34m,\u001b[0m \u001b[0mself\u001b[0m\u001b[0;34m.\u001b[0m\u001b[0mright\u001b[0m\u001b[0;34m,\u001b[0m \u001b[0mself\u001b[0m\u001b[0;34m.\u001b[0m\u001b[0mstep\u001b[0m \u001b[0;34m=\u001b[0m \u001b[0mleft\u001b[0m\u001b[0;34m,\u001b[0m \u001b[0mright\u001b[0m\u001b[0;34m,\u001b[0m \u001b[0mstep\u001b[0m\u001b[0;34m\u001b[0m\u001b[0m\n",
      "\u001b[0;31mTypeError\u001b[0m: range expected at most 3 arguments, got 4"
     ]
    }
   ],
   "source": [
    "Iterator(3, 3, 4, 5)"
   ]
  },
  {
   "cell_type": "markdown",
   "metadata": {},
   "source": [
    "### Задача 4 [Primary Key] (0.05 балла)\n",
    "\n",
    "**Условие:**\n",
    "\n",
    "С помощью механизма дескрипторов реализуйте Primary Key - свойства первичного ключа из PostgreSQL."
   ]
  },
  {
   "cell_type": "markdown",
   "metadata": {},
   "source": [
    "### Задача 5 [PositiveSmallIntegerField] (0.03 балла)\n",
    "\n",
    "**Условие:**\n",
    "\n",
    "С помощью механизма дескрипторов реализуйте тип данных PositiveSmallIntegerField - поле, принимающее значения от 0 до 32767."
   ]
  },
  {
   "cell_type": "code",
   "execution_count": 33,
   "metadata": {},
   "outputs": [],
   "source": [
    "class PositiveSmallIntegerField:\n",
    "    \n",
    "    def __init__(self, name):\n",
    "        self.name = name\n",
    "\n",
    "    def __get__(self, obj, real):\n",
    "        return obj.__dict__[self.name]\n",
    "    \n",
    "    def __set__(self, obj, real):\n",
    "        \n",
    "        if (real < 0) | (real > 32767):\n",
    "            raise ValueError('Integer must be between 0 and 32767')\n",
    "\n",
    "        obj.__dict__[self.name] = real\n",
    "\n",
    "class SmallInteger:\n",
    "    real = PositiveSmallIntegerField('real')\n",
    "    \n",
    "    def __init__(self, real):\n",
    "        self.real = real\n",
    "        \n",
    "    def __repr__(self):\n",
    "        return str(self.real)\n",
    "    \n",
    "    def __add__(self, other):\n",
    "        return SmallInteger(self.real+other.real)"
   ]
  },
  {
   "cell_type": "code",
   "execution_count": 34,
   "metadata": {},
   "outputs": [],
   "source": [
    "a = SmallInteger(10000)"
   ]
  },
  {
   "cell_type": "code",
   "execution_count": 35,
   "metadata": {},
   "outputs": [
    {
     "data": {
      "text/plain": [
       "10001"
      ]
     },
     "execution_count": 35,
     "metadata": {},
     "output_type": "execute_result"
    }
   ],
   "source": [
    "a + 1"
   ]
  },
  {
   "cell_type": "code",
   "execution_count": 36,
   "metadata": {},
   "outputs": [
    {
     "ename": "ValueError",
     "evalue": "Integer must be between 0 and 32767",
     "output_type": "error",
     "traceback": [
      "\u001b[0;31m---------------------------------------------------------------------------\u001b[0m",
      "\u001b[0;31mValueError\u001b[0m                                Traceback (most recent call last)",
      "\u001b[0;32m<ipython-input-36-147356c5a5e2>\u001b[0m in \u001b[0;36m<module>\u001b[0;34m()\u001b[0m\n\u001b[0;32m----> 1\u001b[0;31m \u001b[0ma\u001b[0m \u001b[0;34m+\u001b[0m \u001b[0;36m40000\u001b[0m\u001b[0;34m\u001b[0m\u001b[0m\n\u001b[0m",
      "\u001b[0;32m<ipython-input-33-1e9810286687>\u001b[0m in \u001b[0;36m__add__\u001b[0;34m(self, other)\u001b[0m\n\u001b[1;32m     24\u001b[0m \u001b[0;34m\u001b[0m\u001b[0m\n\u001b[1;32m     25\u001b[0m     \u001b[0;32mdef\u001b[0m \u001b[0m__add__\u001b[0m\u001b[0;34m(\u001b[0m\u001b[0mself\u001b[0m\u001b[0;34m,\u001b[0m \u001b[0mother\u001b[0m\u001b[0;34m)\u001b[0m\u001b[0;34m:\u001b[0m\u001b[0;34m\u001b[0m\u001b[0m\n\u001b[0;32m---> 26\u001b[0;31m         \u001b[0;32mreturn\u001b[0m \u001b[0mSmallInteger\u001b[0m\u001b[0;34m(\u001b[0m\u001b[0mself\u001b[0m\u001b[0;34m.\u001b[0m\u001b[0mreal\u001b[0m\u001b[0;34m+\u001b[0m\u001b[0mother\u001b[0m\u001b[0;34m.\u001b[0m\u001b[0mreal\u001b[0m\u001b[0;34m)\u001b[0m\u001b[0;34m\u001b[0m\u001b[0m\n\u001b[0m",
      "\u001b[0;32m<ipython-input-33-1e9810286687>\u001b[0m in \u001b[0;36m__init__\u001b[0;34m(self, real)\u001b[0m\n\u001b[1;32m     18\u001b[0m \u001b[0;34m\u001b[0m\u001b[0m\n\u001b[1;32m     19\u001b[0m     \u001b[0;32mdef\u001b[0m \u001b[0m__init__\u001b[0m\u001b[0;34m(\u001b[0m\u001b[0mself\u001b[0m\u001b[0;34m,\u001b[0m \u001b[0mreal\u001b[0m\u001b[0;34m)\u001b[0m\u001b[0;34m:\u001b[0m\u001b[0;34m\u001b[0m\u001b[0m\n\u001b[0;32m---> 20\u001b[0;31m         \u001b[0mself\u001b[0m\u001b[0;34m.\u001b[0m\u001b[0mreal\u001b[0m \u001b[0;34m=\u001b[0m \u001b[0mreal\u001b[0m\u001b[0;34m\u001b[0m\u001b[0m\n\u001b[0m\u001b[1;32m     21\u001b[0m \u001b[0;34m\u001b[0m\u001b[0m\n\u001b[1;32m     22\u001b[0m     \u001b[0;32mdef\u001b[0m \u001b[0m__repr__\u001b[0m\u001b[0;34m(\u001b[0m\u001b[0mself\u001b[0m\u001b[0;34m)\u001b[0m\u001b[0;34m:\u001b[0m\u001b[0;34m\u001b[0m\u001b[0m\n",
      "\u001b[0;32m<ipython-input-33-1e9810286687>\u001b[0m in \u001b[0;36m__set__\u001b[0;34m(self, obj, real)\u001b[0m\n\u001b[1;32m     10\u001b[0m \u001b[0;34m\u001b[0m\u001b[0m\n\u001b[1;32m     11\u001b[0m         \u001b[0;32mif\u001b[0m \u001b[0;34m(\u001b[0m\u001b[0mreal\u001b[0m \u001b[0;34m<\u001b[0m \u001b[0;36m0\u001b[0m\u001b[0;34m)\u001b[0m \u001b[0;34m|\u001b[0m \u001b[0;34m(\u001b[0m\u001b[0mreal\u001b[0m \u001b[0;34m>\u001b[0m \u001b[0;36m32767\u001b[0m\u001b[0;34m)\u001b[0m\u001b[0;34m:\u001b[0m\u001b[0;34m\u001b[0m\u001b[0m\n\u001b[0;32m---> 12\u001b[0;31m             \u001b[0;32mraise\u001b[0m \u001b[0mValueError\u001b[0m\u001b[0;34m(\u001b[0m\u001b[0;34m'Integer must be between 0 and 32767'\u001b[0m\u001b[0;34m)\u001b[0m\u001b[0;34m\u001b[0m\u001b[0m\n\u001b[0m\u001b[1;32m     13\u001b[0m \u001b[0;34m\u001b[0m\u001b[0m\n\u001b[1;32m     14\u001b[0m         \u001b[0mobj\u001b[0m\u001b[0;34m.\u001b[0m\u001b[0m__dict__\u001b[0m\u001b[0;34m[\u001b[0m\u001b[0mself\u001b[0m\u001b[0;34m.\u001b[0m\u001b[0mname\u001b[0m\u001b[0;34m]\u001b[0m \u001b[0;34m=\u001b[0m \u001b[0mreal\u001b[0m\u001b[0;34m\u001b[0m\u001b[0m\n",
      "\u001b[0;31mValueError\u001b[0m: Integer must be between 0 and 32767"
     ]
    }
   ],
   "source": [
    "a + 40000"
   ]
  },
  {
   "cell_type": "markdown",
   "metadata": {},
   "source": [
    "### Задача 6 [Timer] (0.02 балла)\n",
    "\n",
    "**Условие:**\n",
    "\n",
    "Реализовать контекстный менеджер, который выводит время, проведенное в нём."
   ]
  },
  {
   "cell_type": "code",
   "execution_count": 37,
   "metadata": {},
   "outputs": [
    {
     "name": "stdout",
     "output_type": "stream",
     "text": [
      "4.0031319 seconds\n"
     ]
    }
   ],
   "source": [
    "import time\n",
    "\n",
    "class Catchtime:\n",
    "    def __enter__(self):\n",
    "        self.start_time = time.time()\n",
    "        return self\n",
    "\n",
    "    def __exit__(self, type, value, traceback):\n",
    "        print('{} seconds'.format(round(time.time() - self.start_time, 7)))\n",
    "\n",
    "with Catchtime() as t2:\n",
    "    time.sleep(4.)"
   ]
  }
 ],
 "metadata": {
  "kernelspec": {
   "display_name": "Python 3",
   "language": "python",
   "name": "python3"
  },
  "language_info": {
   "codemirror_mode": {
    "name": "ipython",
    "version": 3
   },
   "file_extension": ".py",
   "mimetype": "text/x-python",
   "name": "python",
   "nbconvert_exporter": "python",
   "pygments_lexer": "ipython3",
   "version": "3.6.5"
  }
 },
 "nbformat": 4,
 "nbformat_minor": 2
}
