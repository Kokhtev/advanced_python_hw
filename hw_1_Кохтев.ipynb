{
 "cells": [
  {
   "cell_type": "markdown",
   "metadata": {},
   "source": [
    "### Домашнее задание №0 [0.2 балла]"
   ]
  },
  {
   "cell_type": "markdown",
   "metadata": {},
   "source": [
    "**Условие**:\n",
    "\n",
    "Функция `delete_zeros_from_array` принимает на вход массив целых чисел из промежутка [0; 5] и удалает из него все _нули_. Алгоритм должен иметь сложность `O(N)`, где N - длина массива, и использовать `O(1)` дополнительной памяти.\n",
    "\n",
    "Построить **графики** зависимости времени работы алгоритма от количества элементов в нем. \n",
    "\n",
    "**Примечания**:\n",
    "\n",
    "1) Для наглядности лучше генерить массивы, в которых количество удаляемых элементов **больше трети** от всех элементов.\n",
    "\n",
    "2) В такой постановке можно проверить, как разработчик выбирает имена переменных и думает ли о функции глобально. Например, следующим вопросом было бы \"А что если хотим удалять единицы?\""
   ]
  },
  {
   "cell_type": "code",
   "execution_count": 1,
   "metadata": {},
   "outputs": [],
   "source": [
    "# Bad way\n",
    "\n",
    "def delete_zeros_from_array(array):\n",
    "    #     logic for deleting zeroes\n",
    "    return [elem for elem in array if elem != 0]"
   ]
  },
  {
   "cell_type": "code",
   "execution_count": 2,
   "metadata": {},
   "outputs": [],
   "source": [
    "# Not bad way\n",
    "\n",
    "from functools import partial\n",
    "\n",
    "def delete_elements_from_array(array, value_to_drop):\n",
    "    \"\"\"\n",
    "        This function deletes all elements that equal to element from array. \n",
    "        \n",
    "        :param array: Input array\n",
    "        :type array: list\n",
    "        :param value_to_drop: Element that must be deleted from array\n",
    "        :type value_to_drop: int\n",
    "        \n",
    "        :returns: New array without element with the other elements in the same order\n",
    "        :rtype: list\n",
    "    \"\"\"\n",
    "    return filter(lambda elem: elem != value_to_drop, array)\n",
    "    \n",
    "    \n",
    "# delete_zeros_from_array = partial(delete_elements_from_array, value_to_drop=0)"
   ]
  },
  {
   "cell_type": "code",
   "execution_count": 3,
   "metadata": {
    "scrolled": true
   },
   "outputs": [
    {
     "data": {
      "application/vnd.jupyter.widget-view+json": {
       "model_id": "71ccd407307b41daa8f6ea809519e302",
       "version_major": 2,
       "version_minor": 0
      },
      "text/plain": [
       "HBox(children=(IntProgress(value=0), HTML(value='')))"
      ]
     },
     "metadata": {},
     "output_type": "display_data"
    },
    {
     "name": "stdout",
     "output_type": "stream",
     "text": [
      "\n"
     ]
    }
   ],
   "source": [
    "from random import randrange\n",
    "import math\n",
    "import sys\n",
    "from time import time\n",
    "from tqdm import tqdm_notebook\n",
    "\n",
    "observations = []\n",
    "observations_quick = []\n",
    "\n",
    "for size in tqdm_notebook(range(0, int(1e6), 10000)):\n",
    "    array = [randrange(1, 5) for _ in range(int(size*0.6))] + [0] * int(size*0.4)\n",
    "    \n",
    "    start_time = time()\n",
    "    _ = delete_elements_from_array(array, value_to_drop=0)\n",
    "    finish_time = time()\n",
    "    observations_quick.append([size, finish_time-start_time])\n",
    "    \n",
    "    start_time = time()\n",
    "    _ = delete_zeros_from_array(array)\n",
    "    finish_time = time()\n",
    "    observations.append([size, finish_time-start_time])"
   ]
  },
  {
   "cell_type": "code",
   "execution_count": 4,
   "metadata": {},
   "outputs": [],
   "source": [
    "import matplotlib.pyplot as plt"
   ]
  },
  {
   "cell_type": "code",
   "execution_count": 5,
   "metadata": {},
   "outputs": [
    {
     "data": {
      "text/plain": [
       "<matplotlib.legend.Legend at 0x10f4dda58>"
      ]
     },
     "execution_count": 5,
     "metadata": {},
     "output_type": "execute_result"
    },
    {
     "data": {
      "image/png": "[encoded data removed]",
      "text/plain": [
       "<Figure size 432x288 with 1 Axes>"
      ]
     },
     "metadata": {},
     "output_type": "display_data"
    }
   ],
   "source": [
    "plt.ylim(0, 0.04)\n",
    "plt.grid()\n",
    "plt.title(\"time spent\")\n",
    "plt.ylabel(\"seconds\")\n",
    "plt.xlabel(\"list length\")\n",
    "plt.scatter([x[0] for x in observations], [x[1] for x in observations], label=\"bad way\")\n",
    "plt.scatter([x[0] for x in observations_quick], [x[1] for x in observations_quick], label='good way')\n",
    "plt.legend()"
   ]
  },
  {
   "cell_type": "markdown",
   "metadata": {},
   "source": [
    "Зачем нужна doc string? Как её посмотреть?\n",
    "\n",
    "**Ответ**: удобный способ добавления и хранения документации к коду. Вызвать у объекта/метода `.__doc__`"
   ]
  },
  {
   "cell_type": "markdown",
   "metadata": {},
   "source": [
    "### Домашнее задание №1 [0.05 балла]\n",
    "\n",
    "**Условие**:\n",
    "\n",
    "Написать функцию (-и), которая принимает на вход 3 комплексных числа и выводит минимальное из них по модулю без использования функций min, max, sort и т.д.\n",
    "\n",
    "\n",
    "**Комментарии**:\n",
    "\n",
    "1) В процессе сдачи задания, можно будет получить дополнительные баллы\n",
    "\n",
    "2) Код должен быть пригоден для промышленного использования"
   ]
  },
  {
   "cell_type": "code",
   "execution_count": 6,
   "metadata": {
    "scrolled": true
   },
   "outputs": [
    {
     "data": {
      "text/plain": [
       "2.0-0.1i"
      ]
     },
     "execution_count": 6,
     "metadata": {},
     "output_type": "execute_result"
    }
   ],
   "source": [
    "class Complex:\n",
    "    def __init__(self, real, imag):\n",
    "        self.real = real\n",
    "        self.imag = imag\n",
    "        self.squared_absolute_value = real ** 2 + imag ** 2\n",
    "    \n",
    "    def __lt__(self, other):\n",
    "        return self.squared_absolute_value < other.squared_absolute_value\n",
    "    \n",
    "    def __repr__(self):\n",
    "        default = \"{}+{}i\"\n",
    "        if self.imag < 0:\n",
    "            default = \"{}{}i\"\n",
    "        elif self.imag == 0:\n",
    "            default = \"{}\"\n",
    "        return default.format(self.real, self.imag)\n",
    "\n",
    "def minimum_complex_number(*args):\n",
    "    numbers = [Complex(elem.real, elem.imag) for elem in args]\n",
    "    minval = numbers[0]\n",
    "    for num in numbers[1:]:\n",
    "        if minval > num:\n",
    "            minval = num\n",
    "    return minval\n",
    "    \n",
    "n1 = Complex(2, -1)\n",
    "n2 = Complex(2, 2)\n",
    "n3 = Complex(2.1, 0)\n",
    "\n",
    "minimum_complex_number(2-0.1j, 3, 2-0.1j)"
   ]
  },
  {
   "cell_type": "markdown",
   "metadata": {},
   "source": [
    "### Домашнее задание №2 [0.18 балла]"
   ]
  },
  {
   "cell_type": "markdown",
   "metadata": {},
   "source": [
    "**Условие**:\n",
    "\n",
    "Вы - банкомат, который работает по следующей схеме: считывает номер вставленной в него карты, парсит его на 4 равные части и генерирует 4 числа Фибоначчи с номерами, соответствущими распаршенным частям. Затем генерирует числа из всевозможных перестановок полученных чисел Фибоначчи (конкатенацией).\n",
    "\n",
    "Для каждого числа из полученного набора банкомат находит НОД с введеным пользователем паролем и возвращает медиану из полученных НОДов. \n",
    "\n",
    "**Комментарии**:\n",
    "\n",
    "1) Поток клиентов большой, операции повторяющиеся - хорошо бы, чтобы со временем банкомат отвечал быстрее на запросы.\n",
    "\n",
    "2) За неполное решение также дается часть баллов.\n",
    "\n",
    "**Ключевые слова**: lru_cache, permutations, алгоритм Евклида"
   ]
  },
  {
   "cell_type": "code",
   "execution_count": 7,
   "metadata": {},
   "outputs": [],
   "source": [
    "from itertools import permutations\n",
    "from statistics import median # standartlib\n",
    "from math import gcd # standartlib\n",
    "from functools import lru_cache\n",
    "\n",
    "cache_size = int(10e6)\n",
    "\n",
    "class ATM():\n",
    "    \n",
    "    def __init__(self):\n",
    "        \n",
    "        self.parts_to_split = 4\n",
    "        self.phi = (math.sqrt(5) + 1) / 2\n",
    "    \n",
    "    def _fast_fib(self, n):\n",
    "        return round(math.pow(self.phi, n) / math.sqrt(5))\n",
    "    \n",
    "    @lru_cache(maxsize=cache_size)\n",
    "    def fib_number(self, n):\n",
    "        if n < 100:\n",
    "            return self._fast_fib(n)\n",
    "\n",
    "        if n % 2 == 0: # even\n",
    "            _n = int(n / 2)\n",
    "            Fn = self.fib_number(_n)\n",
    "            return (Fn + 2 * self.fib_number(_n-1)) * Fn\n",
    "        else: #odd\n",
    "            _n = int(n / 2)\n",
    "            return self.fib_number(_n) ** 2 + self.fib_number(_n + 1)\n",
    "    \n",
    "    def split_string(self, string):\n",
    "        return [int(string[i:i+self.parts_to_split]) for i in range(0, len(string), self.parts_to_split)]\n",
    "    \n",
    "    def process_input(self, card_number, password):\n",
    "        \n",
    "        card_number = str(card_number).replace(\" \", \"\")\n",
    "\n",
    "        if not (str.isdigit(str(card_number)) & (len(card_number) == 16)):\n",
    "            raise ValueError('Card number is not valid')\n",
    "        \n",
    "        if not (str.isdigit(str(password)) & (len(str(password)) == 4)):\n",
    "            raise ValueError('Password is not valid')\n",
    "            \n",
    "        card_parts = self.split_string(card_number)\n",
    "        \n",
    "        return card_parts, int(password)\n",
    "    \n",
    "    \n",
    "    def process_card(self, card_number, raw_password):\n",
    "        \n",
    "        card_parts, password = self.process_input(card_number, raw_password)\n",
    "        \n",
    "        fib_numbers = [str(self.fib_number(n)) for n in card_parts]\n",
    "        \n",
    "        permuts = [int(''.join(elem)) for elem in permutations(fib_numbers)]\n",
    "        \n",
    "        answer = median([gcd(num, password) for num in permuts])\n",
    "        \n",
    "        return answer"
   ]
  },
  {
   "cell_type": "code",
   "execution_count": 8,
   "metadata": {},
   "outputs": [
    {
     "data": {
      "text/plain": [
       "1.0"
      ]
     },
     "execution_count": 8,
     "metadata": {},
     "output_type": "execute_result"
    }
   ],
   "source": [
    "atm = ATM()\n",
    "card_number = \"5559 4928 0239 9125\"\n",
    "password = '1423'\n",
    "atm.process_card(card_number, password)"
   ]
  },
  {
   "cell_type": "markdown",
   "metadata": {},
   "source": [
    "### Домашнее задание №4 [0 - 0.1 балла]\n",
    "\n",
    "**Условие:**\n",
    "    \n",
    "Написать аналог permutations и провести сравнение скорости работы и потребления памяти.\n",
    "\n",
    "**Комментарий:**\n",
    "\n",
    "Количество баллов зависит от полноты сравнения."
   ]
  },
  {
   "cell_type": "code",
   "execution_count": 9,
   "metadata": {},
   "outputs": [],
   "source": [
    "def permutation_list(array):\n",
    "    if not array:\n",
    "        return [[]]\n",
    "    \n",
    "    perms = []\n",
    "    for index, elem in enumerate(array):\n",
    "        temp = array[:index] + array[index+1:]\n",
    "        perms.extend([[elem] + tail for tail in permutation_list(temp)])\n",
    "\n",
    "    return perms"
   ]
  },
  {
   "cell_type": "code",
   "execution_count": 10,
   "metadata": {
    "scrolled": true
   },
   "outputs": [
    {
     "data": {
      "application/vnd.jupyter.widget-view+json": {
       "model_id": "51668cb0caea4239a11bb53bce5eeefc",
       "version_major": 2,
       "version_minor": 0
      },
      "text/plain": [
       "HBox(children=(IntProgress(value=0, max=20), HTML(value='')))"
      ]
     },
     "metadata": {},
     "output_type": "display_data"
    },
    {
     "name": "stdout",
     "output_type": "stream",
     "text": [
      "\n"
     ]
    }
   ],
   "source": [
    "observations_own = []\n",
    "observations_standart = []\n",
    "\n",
    "n_trials = 20 \n",
    "\n",
    "\n",
    "for trial in tqdm_notebook(range(n_trials)):\n",
    "    for size in (range(10)):\n",
    "        array = [1 for _ in range(size)]\n",
    "\n",
    "        start_time = time()\n",
    "        size_own = sys.getsizeof(list(permutation_list(array)))\n",
    "        finish_time = time()\n",
    "        observations_own.append([size, finish_time-start_time, size_own])\n",
    "\n",
    "        start_time = time()\n",
    "        size_standart = sys.getsizeof(list(permutations(array)))\n",
    "        finish_time = time()\n",
    "        observations_standart.append([size, finish_time-start_time, size_standart])"
   ]
  },
  {
   "cell_type": "code",
   "execution_count": 11,
   "metadata": {},
   "outputs": [
    {
     "data": {
      "text/plain": [
       "<matplotlib.legend.Legend at 0x10faf3208>"
      ]
     },
     "execution_count": 11,
     "metadata": {},
     "output_type": "execute_result"
    },
    {
     "data": {
      "image/png": "[encoded data removed]",
      "text/plain": [
       "<Figure size 432x288 with 1 Axes>"
      ]
     },
     "metadata": {},
     "output_type": "display_data"
    }
   ],
   "source": [
    "plt.grid()\n",
    "plt.title(\"time spent\")\n",
    "plt.ylabel(\"seconds\")\n",
    "plt.xlabel(\"sequence length\")\n",
    "plt.scatter([x[0] for x in observations_own], [x[1] for x in observations_own], label=\"own\")\n",
    "plt.scatter([x[0] for x in observations_standart], [x[1] for x in observations_standart], label='standart')\n",
    "plt.legend()"
   ]
  },
  {
   "cell_type": "code",
   "execution_count": 12,
   "metadata": {},
   "outputs": [
    {
     "data": {
      "text/plain": [
       "<matplotlib.legend.Legend at 0x111851da0>"
      ]
     },
     "execution_count": 12,
     "metadata": {},
     "output_type": "execute_result"
    },
    {
     "data": {
      "image/png": "[encoded data removed]",
      "text/plain": [
       "<Figure size 432x288 with 1 Axes>"
      ]
     },
     "metadata": {},
     "output_type": "display_data"
    }
   ],
   "source": [
    "plt.grid()\n",
    "plt.title(\"memory spent\")\n",
    "plt.ylabel(\"kb\")\n",
    "plt.xlabel(\"sequence length\")\n",
    "plt.scatter([x[0] for x in observations_own], [x[2] / 1024 for x in observations_own], label=\"own\")\n",
    "plt.scatter([x[0] for x in observations_standart], [x[2] / 1024 for x in observations_standart], label='standart')\n",
    "plt.legend()"
   ]
  },
  {
   "cell_type": "code",
   "execution_count": null,
   "metadata": {},
   "outputs": [],
   "source": []
  }
 ],
 "metadata": {
  "kernelspec": {
   "display_name": "Python 3",
   "language": "python",
   "name": "python3"
  },
  "language_info": {
   "codemirror_mode": {
    "name": "ipython",
    "version": 3
   },
   "file_extension": ".py",
   "mimetype": "text/x-python",
   "name": "python",
   "nbconvert_exporter": "python",
   "pygments_lexer": "ipython3",
   "version": "3.6.5"
  }
 },
 "nbformat": 4,
 "nbformat_minor": 2
}
